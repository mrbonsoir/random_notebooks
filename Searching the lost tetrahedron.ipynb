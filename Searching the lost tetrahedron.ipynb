{
 "cells": [
  {
   "cell_type": "markdown",
   "metadata": {},
   "source": [
    "## Here I want to do several things\n",
    "The first routine should take a given a set of points in 3D and compute the list of all possible tetrahedrons.\n",
    "\n",
    "The second routine should take a second set of 3D points and the list of all tetrahedrons computed before and computes their barycentric coordinates for the tetrahedrons containing them.\n",
    "\n",
    "I did refresh my memory by reading this http://www.iue.tuwien.ac.at/phd/nentchev/node31.html"
   ]
  },
  {
   "cell_type": "code",
   "execution_count": 1,
   "metadata": {
    "collapsed": true
   },
   "outputs": [],
   "source": [
    "from scipy.spatial import ConvexHull\n",
    "import numpy as np\n",
    "import matplotlib.pyplot as plt\n",
    "%matplotlib inline\n",
    "import itertools\n",
    "import scipy.spatial"
   ]
  },
  {
   "cell_type": "markdown",
   "metadata": {
    "collapsed": true
   },
   "source": [
    "### List of all possible tethrahedrons\n",
    "The first routine should take a given a set of points in 3D and compute the list of all possible tetrahedrons."
   ]
  },
  {
   "cell_type": "code",
   "execution_count": 6,
   "metadata": {
    "collapsed": false
   },
   "outputs": [
    {
     "name": "stdout",
     "output_type": "stream",
     "text": [
      "[[ 0.84613296  0.0728177   0.68630627]\n",
      " [ 0.43849045  0.02387736  0.12405254]\n",
      " [ 0.13263709  0.14567459  0.05800825]] (10, 3)\n"
     ]
    }
   ],
   "source": [
    "#generate some random test points\n",
    "N_A = 10 # like 10 points...\n",
    "set_3D_points_A = np.random.rand(N_A,3) # all values between [0,1]\n",
    "print set_3D_points_A[0:3,:], np.shape(set_3D_points_A) # only show the first 3 points"
   ]
  },
  {
   "cell_type": "markdown",
   "metadata": {},
   "source": [
    "We start with a definition, a tetrahedron is made of four points/vertex in 3D spaces, it has four triangle faces.\n",
    "\n",
    "So if I have *N* points, then all possible combinations of *4* of them give me the list of possible tetrahedrons.\n",
    "\n",
    "The function below tries to do so using all possible combinations."
   ]
  },
  {
   "cell_type": "code",
   "execution_count": 7,
   "metadata": {
    "collapsed": true
   },
   "outputs": [],
   "source": [
    "def fun_list_all_tetrahedron_from_set_of_points(set_3D_points):\n",
    "    \"\"\"\n",
    "    The function does what its name says.\n",
    "    It takes a list of a least four points in 3D space and return\n",
    "    all possible combinations of four points defining a tetrahedron.\n",
    "    \"\"\"\n",
    "    # get the list of indexs for each tetrahedron\n",
    "    N = np.shape(set_3D_points)[0]\n",
    "    vec_N = np.arange(0,N)\n",
    "    \n",
    "    # get the coordinates for each list of tetrahedra \n",
    "    nb_combibation = itertools.combinations(vec_N, 4)\n",
    "    list_combination = np.array(list(nb_combibation))\n",
    "    #tetrahedron_coordinates = set_3D_points[nb_combibation,:]\n",
    "    return list_combination\n"
   ]
  },
  {
   "cell_type": "markdown",
   "metadata": {},
   "source": [
    "**nb_combibation** gives the index numbers for each group of four points defining a tetrahedron.\n",
    "\n",
    "This approach didn't test if for a set of four points the points were in the same plan and didn't tell if the tetrahedrons were exclusive or not in the sens no points were located within a tetrahedron. You may want to know how many unique tetrahedron there are in your set of points.\n",
    "\n",
    "Some test data below to try the function."
   ]
  },
  {
   "cell_type": "code",
   "execution_count": 8,
   "metadata": {
    "collapsed": false
   },
   "outputs": [
    {
     "name": "stdout",
     "output_type": "stream",
     "text": [
      "210 [[0 1 2 3]\n",
      " [0 1 2 4]\n",
      " [0 1 2 5]\n",
      " [0 1 2 6]\n",
      " [0 1 2 7]] (210, 4)\n",
      "For a set of 10 points we have 210 tetrahedronds\n"
     ]
    }
   ],
   "source": [
    "list_index_tetra = fun_list_all_tetrahedron_from_set_of_points(set_3D_points_A)\n",
    "print len(list_index_tetra),list_index_tetra[0:5,:], np.shape(list_index_tetra)\n",
    "print \"For a set of %1.0f points we have %1.0f tetrahedronds\" % (N_A,np.shape(list_index_tetra)[0])"
   ]
  },
  {
   "cell_type": "markdown",
   "metadata": {},
   "source": [
    "## Compute the barycentric coordinates for the tetrahedrons\n",
    "The second routine should take a second set of 3D points and the list of all tetrahedrons computed before and computes their barycentric coordinates for the tetrahedrons containg them."
   ]
  },
  {
   "cell_type": "code",
   "execution_count": 19,
   "metadata": {
    "collapsed": false
   },
   "outputs": [
    {
     "name": "stdout",
     "output_type": "stream",
     "text": [
      "[[ 0.05637844  0.61356779  0.59889278]\n",
      " [ 0.6459152   0.77118909  0.96132632]\n",
      " [ 0.5         0.5         0.5       ]]\n"
     ]
    }
   ],
   "source": [
    "N_B = 9\n",
    "set_3D_points_B = np.random.rand(N_B,3) # all values between [0,1]\n",
    "set_3D_points_B = np.vstack([set_3D_points_B, [0.5, 0.5, 0.5]])\n",
    "print set_3D_points_B[-3:,:]"
   ]
  },
  {
   "cell_type": "markdown",
   "metadata": {},
   "source": [
    "I basically use the scipy spatial function here... What I do is the Delaunay triangulation to *clean* the number of good tetrahedrons. It also makes it easier to use the function from scipy."
   ]
  },
  {
   "cell_type": "code",
   "execution_count": 20,
   "metadata": {
    "collapsed": false
   },
   "outputs": [
    {
     "name": "stdout",
     "output_type": "stream",
     "text": [
      "I have 19 tetrahedra after the triangulation. \n"
     ]
    }
   ],
   "source": [
    "# Delaunay triangulation\n",
    "tri = scipy.spatial.Delaunay(set_3D_points_A)\n",
    "print \"I have %1.0f tetrahedra after the triangulation. \" % np.shape(tri.simplices)[0]"
   ]
  },
  {
   "cell_type": "code",
   "execution_count": 30,
   "metadata": {
    "collapsed": false
   },
   "outputs": [
    {
     "name": "stdout",
     "output_type": "stream",
     "text": [
      "[18 17 -1 -1 -1 -1 -1 -1 -1  1]\n"
     ]
    }
   ],
   "source": [
    "# find which point are in which tetrahedron\n",
    "tetrahedra = tri.find_simplex(set_3D_points_B)\n",
    "print tetrahedra\n",
    "\n",
    "# find the \n",
    "X = tri.transform[tetrahedra,:3]\n",
    "Y = set_3D_points_B - tri.transform[tetrahedra,3]\n",
    "b = np.einsum('ijk,ik->ij', X, Y)\n",
    "bcoords = np.c_[b, 1 - b.sum(axis=1)]\n"
   ]
  },
  {
   "cell_type": "code",
   "execution_count": 35,
   "metadata": {
    "collapsed": false
   },
   "outputs": [
    {
     "name": "stdout",
     "output_type": "stream",
     "text": [
      "indexes of tetradron\n",
      "[6 8 2 5] [ 0.41773754  0.32913475  0.8339528 ]\n",
      "[[ 0.62809736  0.11262766  0.52908443]\n",
      " [ 0.36981401  0.84670651  0.57888926]\n",
      " [ 0.13263709  0.14567459  0.05800825]\n",
      " [ 0.12761632  0.56675243  0.995321  ]]\n",
      "indexes of tetradron\n",
      "[6 8 3 2] [ 0.35382837  0.72984755  0.8041507 ]\n",
      "[[ 0.62809736  0.11262766  0.52908443]\n",
      " [ 0.36981401  0.84670651  0.57888926]\n",
      " [ 0.55193841  0.69269942  0.35854947]\n",
      " [ 0.13263709  0.14567459  0.05800825]]\n",
      "indexes of tetradron\n",
      "[4 6 3 0] [ 0.5  0.5  0.5]\n",
      "[[ 0.75897004  0.47295987  0.76712544]\n",
      " [ 0.62809736  0.11262766  0.52908443]\n",
      " [ 0.55193841  0.69269942  0.35854947]\n",
      " [ 0.84613296  0.0728177   0.68630627]]\n"
     ]
    }
   ],
   "source": [
    "# display the barycentric coordinate for each point in its corresponding tetrahedra\n",
    "for tt in np.arange(len(tetrahedra)):\n",
    "    if tetrahedra[tt] > 0: # then the point is in a tetrahedron\n",
    "        print \"indexes of tetradron\"\n",
    "        print tri.simplices[tt,:], set_3D_points_B[tt,:]\n",
    "        print set_3D_points_A[tri.simplices[tt,:],:]"
   ]
  }
 ],
 "metadata": {
  "kernelspec": {
   "display_name": "Python 2",
   "language": "python",
   "name": "python2"
  },
  "language_info": {
   "codemirror_mode": {
    "name": "ipython",
    "version": 2
   },
   "file_extension": ".py",
   "mimetype": "text/x-python",
   "name": "python",
   "nbconvert_exporter": "python",
   "pygments_lexer": "ipython2",
   "version": "2.7.10"
  }
 },
 "nbformat": 4,
 "nbformat_minor": 0
}
