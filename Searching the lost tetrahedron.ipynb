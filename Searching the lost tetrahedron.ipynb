{
 "cells": [
  {
   "cell_type": "markdown",
   "metadata": {},
   "source": [
    "## Here I want to do several things\n",
    "The first routine should take a given a set of points in 3D and compute the list of all possible tetrahedrons.\n",
    "\n",
    "The second routine should take a second set of 3D points and the list of all tetrahedrons computed before and computes their barycentric coordinates for the tetrahedrons containing them.\n",
    "\n",
    "I did refresh my memory by reading this http://www.iue.tuwien.ac.at/phd/nentchev/node31.html"
   ]
  },
  {
   "cell_type": "code",
   "execution_count": 1,
   "metadata": {
    "collapsed": true
   },
   "outputs": [],
   "source": [
    "from scipy.spatial import ConvexHull\n",
    "import numpy as np\n",
    "import matplotlib.pyplot as plt\n",
    "%matplotlib inline\n",
    "import itertools\n",
    "import scipy.spatial"
   ]
  },
  {
   "cell_type": "markdown",
   "metadata": {
    "collapsed": true
   },
   "source": [
    "### List of all possible tethrahedrons\n",
    "The first routine should take a given a set of points in 3D and compute the list of all possible tetrahedrons."
   ]
  },
  {
   "cell_type": "code",
   "execution_count": 14,
   "metadata": {
    "collapsed": false
   },
   "outputs": [
    {
     "name": "stdout",
     "output_type": "stream",
     "text": [
      "[[ 0.78291039  0.14393185  0.75492195]\n",
      " [ 0.99516805  0.56603119  0.4872887 ]\n",
      " [ 0.85381135  0.526314    0.48443321]] (10, 3)\n"
     ]
    }
   ],
   "source": [
    "#generate some random test points\n",
    "N_A = 10 # like 10 points...\n",
    "set_3D_points_A = np.random.rand(N_A,3) # all values between [0,1]\n",
    "\n",
    "print set_3D_points_A[0:3,:], np.shape(set_3D_points_A) # only show the first 3 points"
   ]
  },
  {
   "cell_type": "markdown",
   "metadata": {},
   "source": [
    "We start with a definition, a tetrahedron is made of four points/vertex in 3D spaces, it has four triangle faces.\n",
    "\n",
    "So if I have *N* points, then all possible combinations of *4* of them give me the list of possible tetrahedrons.\n",
    "\n",
    "The function below tries to do so using all possible combinations."
   ]
  },
  {
   "cell_type": "code",
   "execution_count": 15,
   "metadata": {
    "collapsed": true
   },
   "outputs": [],
   "source": [
    "def fun_list_all_tetrahedron_from_set_of_points(set_3D_points):\n",
    "    \"\"\"\n",
    "    The function does what its name says.\n",
    "    It takes a list of a least four points in 3D space and return\n",
    "    all possible combinations of four points defining a tetrahedron.\n",
    "    \"\"\"\n",
    "    # get the list of indexs for each tetrahedron\n",
    "    N = np.shape(set_3D_points)[0]\n",
    "    vec_N = np.arange(0,N)\n",
    "    \n",
    "    # get the coordinates for each list of tetrahedra \n",
    "    nb_combibation = itertools.combinations(vec_N, 4)\n",
    "    list_combination = np.array(list(nb_combibation))\n",
    "    #tetrahedron_coordinates = set_3D_points[nb_combibation,:]\n",
    "    return list_combination\n"
   ]
  },
  {
   "cell_type": "markdown",
   "metadata": {},
   "source": [
    "**nb_combibation** gives the index numbers for each group of four points defining a tetrahedron.\n",
    "\n",
    "This approach didn't test if for a set of four points the points were in the same plan and didn't tell if the tetrahedrons were exclusive or not in the sens no points were located within a tetrahedron. You may want to know how many unique tetrahedron there are in your set of points.\n",
    "\n",
    "Some test data below to try the function."
   ]
  },
  {
   "cell_type": "code",
   "execution_count": 16,
   "metadata": {
    "collapsed": false
   },
   "outputs": [
    {
     "name": "stdout",
     "output_type": "stream",
     "text": [
      "210 [[0 1 2 3]\n",
      " [0 1 2 4]\n",
      " [0 1 2 5]\n",
      " [0 1 2 6]\n",
      " [0 1 2 7]] (210, 4)\n",
      "For a set of 10 points we have 210 tetrahedronds\n"
     ]
    }
   ],
   "source": [
    "list_index_tetra = fun_list_all_tetrahedron_from_set_of_points(set_3D_points_A)\n",
    "print len(list_index_tetra),list_index_tetra[0:5,:], np.shape(list_index_tetra)\n",
    "print \"For a set of %1.0f points we have %1.0f tetrahedronds\" % (N_A,np.shape(list_index_tetra)[0])"
   ]
  },
  {
   "cell_type": "markdown",
   "metadata": {},
   "source": [
    "## Compute the barycentric coordinates for the tetrahedrons\n",
    "The second routine should take a second set of 3D points and the list of all tetrahedrons computed before and computes their barycentric coordinates for the tetrahedrons containg them."
   ]
  },
  {
   "cell_type": "code",
   "execution_count": 17,
   "metadata": {
    "collapsed": false
   },
   "outputs": [
    {
     "name": "stdout",
     "output_type": "stream",
     "text": [
      "[[ 0.30915753  0.82213029  0.36098252]\n",
      " [ 0.96040861  0.92827292  0.67253595]\n",
      " [ 0.5         0.5         0.5       ]]\n"
     ]
    }
   ],
   "source": [
    "N_B = 20\n",
    "set_3D_points_B = np.random.rand(N_B,3) # all values between [0,1]\n",
    "set_3D_points_B = np.vstack([set_3D_points_B, [0.5, 0.5, 0.5]])\n",
    "print set_3D_points_B[-3:,:]"
   ]
  },
  {
   "cell_type": "markdown",
   "metadata": {},
   "source": [
    "I basically use the scipy spatial function here... What I do is the Delaunay triangulation to *clean* the number of good tetrahedrons. It also makes it easier to use the function from scipy."
   ]
  },
  {
   "cell_type": "code",
   "execution_count": 18,
   "metadata": {
    "collapsed": false
   },
   "outputs": [],
   "source": [
    "def fun_compute_barycentric_coordinates(tetrahedron_points, targets_points):\n",
    "    \"\"\"\n",
    "    The function take one tetrahedron as input and a list of points.\n",
    "    For each point we want to know if it is located in the this tetrahedron, \n",
    "    and if yes we want the barycentric coordinates.\n",
    "    \"\"\"\n",
    "    res_bcoords = np.zeros((np.shape(targets_points)[0],4))\n",
    "    #print np.shape(res_bcoords)\n",
    "    \n",
    "    # Delaunay triangulation\n",
    "    tri = scipy.spatial.Delaunay(tetrahedron_points)\n",
    "    print tri.simplices\n",
    "    #print np.shape(targets_points)\n",
    "    for ii in np.arange(np.shape(targets_points)[0]):\n",
    "        point = targets_points[ii,:]\n",
    "        tetrahedra = tri.find_simplex(point)\n",
    "        if tetrahedra >=  0: \n",
    "            # point located in the tetrahedron\n",
    "            try:\n",
    "                res_bc = fun_get_barycentric_coordinates(tetrahedra, tri, point)\n",
    "                print ii, res_bc\n",
    "                res_bcoords[ii,:] = res_bc\n",
    "            except ValueError:\n",
    "                #print ii#, point, np.array([-1, -1, -1])\n",
    "                res_bcoords[ii,:] = np.array([-1, -1, -1, -1])\n",
    "        else:\n",
    "            res_bcoords[ii,:] = np.array([-1, -1, -1, -1])# * np.ones((4,1))\n",
    "            #print ii,# point, np.array([-1, -1, -1])\n",
    "    return res_bcoords\n",
    "    \n",
    "def fun_get_barycentric_coordinates(tetrahedra, trig, point):\n",
    "    \"\"\"\n",
    "    Here we solve the equation to get the barycentric coordinates where\n",
    "    tetrahedra are the points defining the testrahedron\n",
    "    point are the point coordinates in cartersian space\n",
    "    trig the result of the Delaunay triangulation\n",
    "    \"\"\"\n",
    "    # find the \n",
    "    X = trig.transform[tetrahedra,:3]\n",
    "    Y = point - trig.transform[tetrahedra,3]\n",
    "    b = np.einsum('ijk,ik->ij', X, Y)\n",
    "    b_coords = np.c_[b, 1 - b.sum(axis=1)]\n",
    "    print b_coords\n",
    "    return b_coords"
   ]
  },
  {
   "cell_type": "code",
   "execution_count": 19,
   "metadata": {
    "collapsed": false
   },
   "outputs": [
    {
     "name": "stdout",
     "output_type": "stream",
     "text": [
      "[[2 0 1 3]]\n",
      "[[2 0 1 3]]\n",
      "[[0 2 1 3]]\n",
      "[[2 0 1 3]]\n",
      "[[3 2 1 0]]\n",
      "[[2 0 1 3]]\n",
      "[[2 0 1 3]]\n",
      "[[3 0 1 2]]\n",
      "[[0 3 1 2]]\n",
      "[[3 0 1 2]]\n",
      "[[3 0 1 2]]\n",
      "[[3 0 1 2]]\n",
      "[[0 3 1 2]]\n",
      "[[0 2 1 3]]\n",
      "[[2 0 1 3]]\n",
      "[[3 0 1 2]]\n",
      "[[3 0 1 2]]\n",
      "[[2 0 1 3]]\n",
      "[[0 2 1 3]]\n",
      "[[0 3 1 2]]\n",
      "[[0 3 1 2]]\n",
      "[[0 2 1 3]]\n",
      "[[3 0 1 2]]\n",
      "[[3 0 1 2]]\n",
      "[[3 0 1 2]]\n",
      "[[2 0 1 3]]\n",
      "[[2 0 1 3]]\n",
      "[[2 0 1 3]]\n",
      "[[3 0 1 2]]\n",
      "[[0 3 1 2]]\n",
      "[[3 0 1 2]]\n",
      "[[1 0 3 2]]\n",
      "[[3 0 1 2]]\n",
      "[[0 3 1 2]]\n",
      "[[2 0 1 3]]\n",
      "[[2 0 1 3]]\n",
      "[[1 0 3 2]]\n",
      "[[3 0 1 2]]\n",
      "[[2 0 1 3]]\n",
      "[[0 2 1 3]]\n",
      "[[0 1 3 2]]\n",
      "[[0 3 1 2]]\n",
      "[[0 2 1 3]]\n",
      "[[1 0 3 2]]\n",
      "[[3 0 1 2]]\n",
      "[[3 0 1 2]]\n",
      "[[1 0 2 3]]\n",
      "[[1 0 2 3]]\n",
      "[[2 0 1 3]]\n",
      "[[2 3 0 1]]\n",
      "[[2 3 0 1]]\n",
      "[[2 0 3 1]]\n",
      "[[2 3 0 1]]\n",
      "[[2 3 0 1]]\n",
      "[[3 2 0 1]]\n",
      "[[0 2 3 1]]\n",
      "[[3 2 0 1]]\n",
      "[[3 2 0 1]]\n",
      "[[2 0 3 1]]\n",
      "[[2 3 0 1]]\n",
      "[[3 2 0 1]]\n",
      "[[3 0 2 1]]\n",
      "[[0 3 2 1]]\n",
      "[[2 3 0 1]]\n",
      "[[1 2 0 3]]\n",
      "[[0 1 3 2]]\n",
      "[[1 3 0 2]]\n",
      "[[2 1 0 3]]\n",
      "[[1 0 3 2]]\n",
      "[[1 3 0 2]]\n",
      "[[1 3 0 2]]\n",
      "[[3 0 2 1]]\n",
      "[[1 0 2 3]]\n",
      "[[1 2 0 3]]\n",
      "[[0 1 3 2]]\n",
      "[[1 3 0 2]]\n",
      "[[3 1 0 2]]\n",
      "[[0 3 2 1]]\n",
      "[[0 1 2 3]]\n",
      "[[1 2 0 3]]\n",
      "[[3 0 2 1]]\n",
      "[[3 0 2 1]]\n",
      "[[3 2 0 1]]\n",
      "[[0 2 1 3]]\n",
      "[[1 3 0 2]]\n",
      "[[1 3 0 2]]\n",
      "[[1 3 0 2]]\n",
      "[[1 3 0 2]]\n",
      "[[3 1 0 2]]\n",
      "[[1 3 0 2]]\n",
      "[[2 1 0 3]]\n",
      "[[1 2 0 3]]\n",
      "[[1 3 0 2]]\n",
      "[[1 3 0 2]]\n",
      "[[2 1 0 3]]\n",
      "[[1 2 0 3]]\n",
      "[[1 3 0 2]]\n",
      "[[1 3 0 2]]\n",
      "[[1 2 0 3]]\n",
      "[[1 3 0 2]]\n",
      "[[1 3 0 2]]\n",
      "[[1 3 0 2]]\n",
      "[[1 2 0 3]]\n",
      "[[1 2 0 3]]\n",
      "[[1 2 0 3]]\n",
      "[[2 3 0 1]]\n",
      "[[3 2 0 1]]\n",
      "[[3 2 0 1]]\n",
      "[[3 2 0 1]]\n",
      "[[2 3 0 1]]\n",
      "[[3 2 0 1]]\n",
      "[[3 2 0 1]]\n",
      "[[3 2 0 1]]\n",
      "[[3 2 0 1]]\n",
      "[[3 2 0 1]]\n",
      "[[3 2 0 1]]\n",
      "[[2 3 0 1]]\n",
      "[[3 2 0 1]]\n",
      "[[2 3 0 1]]\n",
      "[[2 3 0 1]]\n",
      "[[1 2 0 3]]\n",
      "[[1 3 0 2]]\n",
      "[[1 3 0 2]]\n",
      "[[1 2 0 3]]\n",
      "[[3 1 0 2]]\n",
      "[[3 1 0 2]]\n",
      "[[1 3 0 2]]\n",
      "[[2 3 0 1]]\n",
      "[[1 2 0 3]]\n",
      "[[1 2 0 3]]\n",
      "[[3 1 0 2]]\n",
      "[[3 1 0 2]]\n",
      "[[3 1 0 2]]\n",
      "[[2 3 0 1]]\n",
      "[[2 1 0 3]]\n",
      "[[1 2 0 3]]\n",
      "[[3 2 0 1]]\n",
      "[[2 3 0 1]]\n",
      "[[2 3 0 1]]\n",
      "[[1 2 0 3]]\n",
      "[[2 3 0 1]]\n",
      "[[2 3 0 1]]\n",
      "[[0 2 3 1]]\n",
      "[[3 2 0 1]]\n",
      "[[2 3 0 1]]\n",
      "[[3 2 0 1]]\n",
      "[[0 2 3 1]]\n",
      "[[3 2 0 1]]\n",
      "[[3 2 0 1]]\n",
      "[[0 2 3 1]]\n",
      "[[3 2 0 1]]\n",
      "[[2 3 0 1]]\n",
      "[[0 3 2 1]]\n",
      "[[0 3 2 1]]\n",
      "[[2 3 0 1]]\n",
      "[[1 2 0 3]]\n",
      "[[1 0 3 2]]\n",
      "[[1 3 0 2]]\n",
      "[[1 2 0 3]]\n",
      "[[0 1 3 2]]\n",
      "[[3 1 0 2]]\n",
      "[[1 3 0 2]]\n",
      "[[0 3 2 1]]\n",
      "[[1 0 2 3]]\n",
      "[[1 2 0 3]]\n",
      "[[0 1 3 2]]\n",
      "[[3 1 0 2]]\n",
      "[[3 1 0 2]]\n",
      "[[0 3 2 1]]\n",
      "[[0 1 2 3]]\n",
      "[[1 2 0 3]]\n",
      "[[0 3 2 1]]\n",
      "[[0 3 2 1]]\n",
      "[[2 3 0 1]]\n",
      "[[0 2 1 3]]\n",
      "[[3 2 1 0]]\n",
      "[[1 2 3 0]]\n",
      "[[1 2 3 0]]\n",
      "[[3 2 1 0]]\n",
      "[[1 2 3 0]]\n",
      "[[2 1 3 0]]\n",
      "[[2 3 1 0]]\n",
      "[[3 1 2 0]]\n",
      "[[1 3 2 0]]\n",
      "[[1 3 2 0]]\n",
      "[[2 1 3 0]]\n",
      "[[2 1 3 0]]\n",
      "[[3 2 1 0]]\n",
      "[[3 1 2 0]]\n",
      "[[3 1 2 0]]\n",
      "[[3 1 2 0]]\n",
      "[[3 1 2 0]]\n",
      "[[1 3 2 0]]\n",
      "[[1 3 2 0]]\n",
      "[[2 3 1 0]]\n",
      "[[0 1 3 2]]\n",
      "[[0 1 3 2]]\n",
      "[[3 1 0 2]]\n",
      "[[0 3 2 1]]\n",
      "[[0 1 2 3]]\n",
      "[[0 1 2 3]]\n",
      "[[0 3 2 1]]\n",
      "[[0 3 2 1]]\n",
      "[[0 3 2 1]]\n",
      "[[0 2 1 3]]\n",
      "[[3 0 2 1]]\n",
      "[[3 0 2 1]]\n",
      "[[3 0 2 1]]\n",
      "[[0 2 1 3]]\n",
      "[[2 3 1 0]]\n"
     ]
    }
   ],
   "source": [
    "for ii in np.arange(len(list_index_tetra)):\n",
    "    tetra_points = set_3D_points_A[list_index_tetra[ii,:],:]\n",
    "    #print tetra_points\n",
    "    bary_coords = fun_compute_barycentric_coordinates(tetra_points, set_3D_points_B)\n",
    "    #print bary_coords"
   ]
  },
  {
   "cell_type": "code",
   "execution_count": 20,
   "metadata": {
    "collapsed": false
   },
   "outputs": [
    {
     "name": "stdout",
     "output_type": "stream",
     "text": [
      "I have 21 tetrahedra after the triangulation. \n"
     ]
    }
   ],
   "source": [
    "# Delaunay triangulation\n",
    "tri = scipy.spatial.Delaunay(set_3D_points_A)\n",
    "print \"I have %1.0f tetrahedra after the triangulation. \" % np.shape(tri.simplices)[0]"
   ]
  },
  {
   "cell_type": "code",
   "execution_count": 21,
   "metadata": {
    "collapsed": false
   },
   "outputs": [
    {
     "name": "stdout",
     "output_type": "stream",
     "text": [
      "[-1 10  5 -1 -1 -1 -1 -1 -1 -1 -1 -1 -1 -1 -1 -1 -1  4 -1 -1  4]\n",
      "[[-2.00281506 -1.68671534  4.38478264  0.30474775]\n",
      " [ 0.12967523  0.51228443  0.33944733  0.018593  ]\n",
      " [ 0.2110668   0.43815101  0.3105616   0.04022059]\n",
      " [ 0.77781074 -1.85113009  2.8656892  -0.79236985]\n",
      " [ 1.29300663  0.45844588  0.94265938 -1.69411189]\n",
      " [-0.16872596 -0.15580732  2.1035175  -0.77898422]\n",
      " [ 1.84829194 -0.34177734  0.26152659 -0.76804118]\n",
      " [ 3.77135058  1.57762599 -2.47747858 -1.87149799]\n",
      " [-0.45021515 -0.80831455  3.84252085 -1.58399114]\n",
      " [ 0.5776942  -0.28059686  2.23045333 -1.52755068]\n",
      " [ 1.65329647  1.01284176  0.06216699 -1.72830521]\n",
      " [-0.23520829 -1.94882911  3.36406789 -0.18003049]\n",
      " [ 0.10451994 -1.2782272   2.57800032 -0.40429306]\n",
      " [-1.24854886 -1.0673117   3.58722049 -0.27135993]\n",
      " [-0.02036716 -0.89477045  2.30436156 -0.38922395]\n",
      " [ 0.80232102 -0.11907202  1.6471174  -1.3303664 ]\n",
      " [ 2.28828791  1.51816209 -1.2282402  -1.57820981]\n",
      " [ 0.31012444  0.18988767  0.1336698   0.36631809]\n",
      " [ 2.84617475  0.36944933  0.18761663 -2.40324071]\n",
      " [-0.4240814   0.99387576  1.06850927 -0.63830363]\n",
      " [ 0.22101296  0.53797339  0.22279552  0.01821813]]\n"
     ]
    }
   ],
   "source": [
    "# find which point are in which tetrahedron\n",
    "tetrahedra = tri.find_simplex(set_3D_points_B)\n",
    "print tetrahedra\n",
    "\n",
    "# find the \n",
    "X = tri.transform[tetrahedra,:3]\n",
    "Y = set_3D_points_B - tri.transform[tetrahedra,3]\n",
    "b = np.einsum('ijk,ik->ij', X, Y)\n",
    "bcoords = np.c_[b, 1 - b.sum(axis=1)]\n",
    "print bcoords\n"
   ]
  },
  {
   "cell_type": "code",
   "execution_count": 22,
   "metadata": {
    "collapsed": false
   },
   "outputs": [
    {
     "name": "stdout",
     "output_type": "stream",
     "text": [
      "indexes of tetradron\n",
      "[2 8 4 7] [ 0.65987566  0.55350566  0.71766314]\n",
      "[[ 0.85381135  0.526314    0.48443321]\n",
      " [ 0.672502    0.65261187  0.8138237 ]\n",
      " [ 0.55169608  0.42001619  0.64783663]\n",
      " [ 0.93440559  0.44960437  0.9696401 ]]\n",
      "indexes of tetradron\n",
      "[2 0 7 1] [ 0.85346095  0.33654726  0.7537496 ]\n",
      "[[ 0.85381135  0.526314    0.48443321]\n",
      " [ 0.78291039  0.14393185  0.75492195]\n",
      " [ 0.93440559  0.44960437  0.9696401 ]\n",
      " [ 0.99516805  0.56603119  0.4872887 ]]\n",
      "indexes of tetradron\n",
      "[2 4 6 3] [ 0.39813471  0.66326931  0.44443213]\n",
      "[[ 0.85381135  0.526314    0.48443321]\n",
      " [ 0.55169608  0.42001619  0.64783663]\n",
      " [ 0.06050081  0.63298337  0.16609815]\n",
      " [ 0.05596099  0.91636157  0.40669315]]\n",
      "indexes of tetradron\n",
      "[2 4 6 3] [ 0.5  0.5  0.5]\n",
      "[[ 0.85381135  0.526314    0.48443321]\n",
      " [ 0.55169608  0.42001619  0.64783663]\n",
      " [ 0.06050081  0.63298337  0.16609815]\n",
      " [ 0.05596099  0.91636157  0.40669315]]\n"
     ]
    }
   ],
   "source": [
    "# display the barycentric coordinate for each point in its corresponding tetrahedra\n",
    "for tt in np.arange(len(tetrahedra)):\n",
    "    if tetrahedra[tt] >= 0: # then the point is in a tetrahedron\n",
    "        print \"indexes of tetradron\"\n",
    "        print tri.simplices[tetrahedra[tt],:], set_3D_points_B[tt,:]\n",
    "        print set_3D_points_A[tri.simplices[tetrahedra[tt],:],:]"
   ]
  },
  {
   "cell_type": "code",
   "execution_count": null,
   "metadata": {
    "collapsed": true
   },
   "outputs": [],
   "source": []
  }
 ],
 "metadata": {
  "kernelspec": {
   "display_name": "Python 2",
   "language": "python",
   "name": "python2"
  },
  "language_info": {
   "codemirror_mode": {
    "name": "ipython",
    "version": 2
   },
   "file_extension": ".py",
   "mimetype": "text/x-python",
   "name": "python",
   "nbconvert_exporter": "python",
   "pygments_lexer": "ipython2",
   "version": "2.7.10"
  }
 },
 "nbformat": 4,
 "nbformat_minor": 0
}
