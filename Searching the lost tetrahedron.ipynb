{
 "cells": [
  {
   "cell_type": "markdown",
   "metadata": {},
   "source": [
    "## Here I want to do several things\n",
    "The first routine should take a given a set of points in 3D and compute the list of all possible tetrahedrons.\n",
    "\n",
    "The second routine should take a second set of 3D points and the list of all tetrahedrons computed before and computes their barycentric coordinates for the tetrahedrons containing them.\n",
    "\n",
    "I did refresh my memory by reading this http://www.iue.tuwien.ac.at/phd/nentchev/node31.html"
   ]
  },
  {
   "cell_type": "code",
   "execution_count": 1,
   "metadata": {
    "collapsed": true
   },
   "outputs": [],
   "source": [
    "from scipy.spatial import ConvexHull\n",
    "import numpy as np\n",
    "import matplotlib.pyplot as plt\n",
    "%matplotlib inline\n",
    "import itertools\n",
    "import scipy.spatial"
   ]
  },
  {
   "cell_type": "markdown",
   "metadata": {
    "collapsed": true
   },
   "source": [
    "### List of all possible tethrahedrons\n",
    "The first routine should take a given a set of points in 3D and compute the list of all possible tetrahedrons."
   ]
  },
  {
   "cell_type": "code",
   "execution_count": 2,
   "metadata": {
    "collapsed": false
   },
   "outputs": [
    {
     "name": "stdout",
     "output_type": "stream",
     "text": [
      "[[ 0.33018085  0.05523432  0.27419375]\n",
      " [ 0.66869361  0.04049841  0.2866533 ]\n",
      " [ 0.92849717  0.04446711  0.92596894]] (10, 3)\n"
     ]
    }
   ],
   "source": [
    "#generate some random test points\n",
    "N_A = 10 # like 10 points...\n",
    "set_3D_points_A = np.random.rand(N_A,3) # all values between [0,1]\n",
    "\n",
    "print set_3D_points_A[0:3,:], np.shape(set_3D_points_A) # only show the first 3 points"
   ]
  },
  {
   "cell_type": "markdown",
   "metadata": {},
   "source": [
    "We start with a definition, a tetrahedron is made of four points/vertex in 3D spaces, it has four triangle faces.\n",
    "\n",
    "So if I have *N* points, then all possible combinations of *4* of them give me the list of possible tetrahedrons.\n",
    "\n",
    "The function below tries to do so using all possible combinations."
   ]
  },
  {
   "cell_type": "code",
   "execution_count": 3,
   "metadata": {
    "collapsed": true
   },
   "outputs": [],
   "source": [
    "def fun_list_all_tetrahedron_from_set_of_points(set_3D_points):\n",
    "    \"\"\"\n",
    "    The function does what its name says.\n",
    "    It takes a list of a least four points in 3D space and return\n",
    "    all possible combinations of four points defining a tetrahedron.\n",
    "    \"\"\"\n",
    "    # get the list of indexs for each tetrahedron\n",
    "    N = np.shape(set_3D_points)[0]\n",
    "    vec_N = np.arange(0,N)\n",
    "    \n",
    "    # get the coordinates for each list of tetrahedra \n",
    "    nb_combibation = itertools.combinations(vec_N, 4)\n",
    "    list_combination = np.array(list(nb_combibation))\n",
    "    #tetrahedron_coordinates = set_3D_points[nb_combibation,:]\n",
    "    return list_combination\n"
   ]
  },
  {
   "cell_type": "markdown",
   "metadata": {},
   "source": [
    "**nb_combibation** gives the index numbers for each group of four points defining a tetrahedron.\n",
    "\n",
    "This approach didn't test if for a set of four points the points were in the same plan and didn't tell if the tetrahedrons were exclusive or not in the sens no points were located within a tetrahedron. You may want to know how many unique tetrahedron there are in your set of points.\n",
    "\n",
    "Some test data below to try the function."
   ]
  },
  {
   "cell_type": "code",
   "execution_count": 4,
   "metadata": {
    "collapsed": false
   },
   "outputs": [
    {
     "name": "stdout",
     "output_type": "stream",
     "text": [
      "210 [[0 1 2 3]\n",
      " [0 1 2 4]\n",
      " [0 1 2 5]\n",
      " [0 1 2 6]\n",
      " [0 1 2 7]] (210, 4)\n",
      "For a set of 10 points we have 210 tetrahedronds\n"
     ]
    }
   ],
   "source": [
    "list_index_tetra = fun_list_all_tetrahedron_from_set_of_points(set_3D_points_A)\n",
    "print len(list_index_tetra),list_index_tetra[0:5,:], np.shape(list_index_tetra)\n",
    "print \"For a set of %1.0f points we have %1.0f tetrahedronds\" % (N_A,np.shape(list_index_tetra)[0])"
   ]
  },
  {
   "cell_type": "markdown",
   "metadata": {},
   "source": [
    "## Compute the barycentric coordinates for the tetrahedrons\n",
    "The second routine should take a second set of 3D points and the list of all tetrahedrons computed before and computes their barycentric coordinates for the tetrahedrons containg them."
   ]
  },
  {
   "cell_type": "code",
   "execution_count": 5,
   "metadata": {
    "collapsed": false
   },
   "outputs": [
    {
     "name": "stdout",
     "output_type": "stream",
     "text": [
      "[[ 0.52810739  0.16081564  0.29618339]\n",
      " [ 0.285631    0.96736037  0.77310344]\n",
      " [ 0.5         0.5         0.5       ]]\n"
     ]
    }
   ],
   "source": [
    "N_B = 20\n",
    "set_3D_points_B = np.random.rand(N_B,3) # all values between [0,1]\n",
    "set_3D_points_B = np.vstack([set_3D_points_B, [0.5, 0.5, 0.5]])\n",
    "print set_3D_points_B[-3:,:]"
   ]
  },
  {
   "cell_type": "markdown",
   "metadata": {},
   "source": [
    "I basically use the scipy spatial function here... What I do is the Delaunay triangulation to *clean* the number of good tetrahedrons. It also makes it easier to use the function from scipy."
   ]
  },
  {
   "cell_type": "code",
   "execution_count": 6,
   "metadata": {
    "collapsed": false
   },
   "outputs": [],
   "source": [
    "def fun_compute_barycentric_coordinates(tetrahedron_points, targets_points):\n",
    "    \"\"\"\n",
    "    The function take one tetrahedron as input and a list of points.\n",
    "    For each point we want to know if it is located in the this tetrahedron, \n",
    "    and if yes we want the barycentric coordinates.\n",
    "    \"\"\"\n",
    "    res_bcoords = np.zeros((np.shape(targets_points)[0],4))\n",
    "    #print np.shape(res_bcoords)\n",
    "    \n",
    "    # Delaunay triangulation\n",
    "    tri = scipy.spatial.Delaunay(tetrahedron_points)\n",
    "    print tri.simplices\n",
    "    #print np.shape(targets_points)\n",
    "    for ii in np.arange(np.shape(targets_points)[0]):\n",
    "        point = targets_points[ii,:]\n",
    "        tetrahedra = tri.find_simplex(point)\n",
    "        if tetrahedra >=  0: \n",
    "            # point located in the tetrahedron\n",
    "            try:\n",
    "                res_bc = fun_get_barycentric_coordinates(tetrahedra, tri, point)\n",
    "                print ii, res_bc\n",
    "                res_bcoords[ii,:] = res_bc\n",
    "            except ValueError:\n",
    "                #print ii#, point, np.array([-1, -1, -1])\n",
    "                res_bcoords[ii,:] = np.array([-1, -1, -1, -1])\n",
    "        else:\n",
    "            res_bcoords[ii,:] = np.array([-1, -1, -1, -1])# * np.ones((4,1))\n",
    "            #print ii,# point, np.array([-1, -1, -1])\n",
    "    return res_bcoords\n",
    "    \n",
    "def fun_get_barycentric_coordinates(tetrahedra, trig, point):\n",
    "    \"\"\"\n",
    "    Here we solve the equation to get the barycentric coordinates where\n",
    "    tetrahedra are the points defining the testrahedron\n",
    "    point are the point coordinates in cartersian space\n",
    "    trig the result of the Delaunay triangulation\n",
    "    \"\"\"\n",
    "    # find the \n",
    "    X = trig.transform[tetrahedra,:3]\n",
    "    Y = point - trig.transform[tetrahedra,3]\n",
    "    b = np.einsum('ijk,ik->ij', X, Y)\n",
    "    b_coords = np.c_[b, 1 - b.sum(axis=1)]\n",
    "    print b_coords\n",
    "    return b_coords"
   ]
  },
  {
   "cell_type": "code",
   "execution_count": 7,
   "metadata": {
    "collapsed": false
   },
   "outputs": [
    {
     "name": "stdout",
     "output_type": "stream",
     "text": [
      "[[1 3 2 0]]\n",
      "[[1 3 2 0]]\n",
      "[[1 3 2 0]]\n",
      "[[1 3 2 0]]\n",
      "[[1 3 2 0]]\n",
      "[[1 3 2 0]]\n",
      "[[1 3 2 0]]\n",
      "[[2 3 1 0]]\n",
      "[[3 2 1 0]]\n",
      "[[2 3 1 0]]\n",
      "[[2 1 3 0]]\n",
      "[[2 1 3 0]]\n",
      "[[2 3 1 0]]\n",
      "[[3 2 1 0]]\n",
      "[[2 3 1 0]]\n",
      "[[2 1 3 0]]\n",
      "[[2 1 3 0]]\n",
      "[[2 3 1 0]]\n",
      "[[2 3 1 0]]\n",
      "[[2 1 3 0]]\n",
      "[[2 1 3 0]]\n",
      "[[2 3 1 0]]\n",
      "[[2 1 3 0]]\n",
      "[[2 1 3 0]]\n",
      "[[2 3 1 0]]\n",
      "[[2 1 3 0]]\n",
      "[[1 3 2 0]]\n",
      "[[1 3 2 0]]\n",
      "[[2 3 1 0]]\n",
      "[[3 2 1 0]]\n",
      "[[2 3 1 0]]\n",
      "[[2 3 1 0]]\n",
      "[[2 3 1 0]]\n",
      "[[2 3 1 0]]\n",
      "[[3 2 1 0]]\n",
      "[[2 3 1 0]]\n",
      "[[2 3 1 0]]\n",
      "[[2 3 1 0]]\n",
      "[[2 3 1 0]]\n",
      "[[2 3 1 0]]\n",
      "[[2 3 1 0]]\n",
      "[[2 3 1 0]]\n",
      "[[2 3 1 0]]\n",
      "[[3 2 1 0]]\n",
      "[[3 2 1 0]]\n",
      "[[2 3 1 0]]\n",
      "[[3 2 1 0]]\n",
      "[[2 3 1 0]]\n",
      "[[2 3 1 0]]\n",
      "[[1 2 3 0]]\n",
      "[[2 1 3 0]]\n",
      "[[1 2 3 0]]\n",
      "[[1 2 3 0]]\n",
      "[[2 3 1 0]]\n",
      "[[1 3 2 0]]\n",
      "[[1 2 3 0]]\n",
      "[[1 2 3 0]]\n",
      "[[1 3 2 0]]\n",
      "[[1 2 3 0]]\n",
      "[[1 2 3 0]]\n",
      "[[3 1 2 0]]\n",
      "[[1 2 3 0]]\n",
      "[[1 3 2 0]]\n",
      "[[1 3 2 0]]\n",
      "[[1 3 2 0]]\n",
      "[[2 1 3 0]]\n",
      "[[2 1 3 0]]\n",
      "[[1 3 2 0]]\n",
      "[[1 2 3 0]]\n",
      "[[1 2 3 0]]\n",
      "[[1 3 2 0]]\n",
      "[[2 1 3 0]]\n",
      "[[1 3 2 0]]\n",
      "[[1 3 2 0]]\n",
      "[[2 1 3 0]]\n",
      "[[1 2 3 0]]\n",
      "[[2 3 1 0]]\n",
      "[[2 1 3 0]]\n",
      "[[1 3 2 0]]\n",
      "[[1 3 2 0]]\n",
      "[[2 1 3 0]]\n",
      "[[1 3 2 0]]\n",
      "[[1 3 2 0]]\n",
      "[[1 3 2 0]]\n",
      "[[2 0 1 3]]\n",
      "[[3 0 1 2]]\n",
      "[[0 3 1 2]]\n",
      "[[0 3 1 2]]\n",
      "[[0 3 1 2]]\n",
      "[[2 0 1 3]]\n",
      "[[3 0 1 2]]\n",
      "[[0 3 1 2]]\n",
      "[[0 3 1 2]]\n",
      "[[0 3 1 2]]\n",
      "[[0 3 1 2]]\n",
      "[[0 2 1 3]]\n",
      "[[0 3 1 2]]\n",
      "[[0 3 1 2]]\n",
      "[[0 2 1 3]]\n",
      "[[3 0 1 2]]\n",
      "[[3 0 1 2]]\n",
      "[[2 0 1 3]]\n",
      "[[3 2 1 0]]\n",
      "[[2 0 1 3]]\n",
      "[[2 0 1 3]]\n",
      "[[3 1 0 2]]\n",
      "[[1 3 0 2]]\n",
      "[[1 0 3 2]]\n",
      "[[1 0 3 2]]\n",
      "[[1 3 0 2]]\n",
      "[[2 3 0 1]]\n",
      "[[2 0 3 1]]\n",
      "[[2 0 3 1]]\n",
      "[[2 1 0 3]]\n",
      "[[0 2 3 1]]\n",
      "[[0 2 3 1]]\n",
      "[[2 1 0 3]]\n",
      "[[2 0 3 1]]\n",
      "[[1 0 2 3]]\n",
      "[[1 0 2 3]]\n",
      "[[2 3 0 1]]\n",
      "[[2 0 3 1]]\n",
      "[[2 0 3 1]]\n",
      "[[2 3 0 1]]\n",
      "[[2 0 3 1]]\n",
      "[[0 2 3 1]]\n",
      "[[2 3 0 1]]\n",
      "[[2 0 3 1]]\n",
      "[[0 3 2 1]]\n",
      "[[0 3 2 1]]\n",
      "[[1 0 3 2]]\n",
      "[[1 0 3 2]]\n",
      "[[2 1 0 3]]\n",
      "[[2 0 3 1]]\n",
      "[[0 1 2 3]]\n",
      "[[0 1 2 3]]\n",
      "[[2 0 3 1]]\n",
      "[[1 0 2 3]]\n",
      "[[1 0 2 3]]\n",
      "[[1 0 2 3]]\n",
      "[[3 1 0 2]]\n",
      "[[1 3 0 2]]\n",
      "[[1 3 0 2]]\n",
      "[[1 3 0 2]]\n",
      "[[1 3 0 2]]\n",
      "[[2 3 0 1]]\n",
      "[[2 3 0 1]]\n",
      "[[2 3 0 1]]\n",
      "[[1 2 0 3]]\n",
      "[[3 2 0 1]]\n",
      "[[3 2 0 1]]\n",
      "[[1 2 0 3]]\n",
      "[[3 2 0 1]]\n",
      "[[2 1 0 3]]\n",
      "[[2 1 0 3]]\n",
      "[[2 3 0 1]]\n",
      "[[2 3 0 1]]\n",
      "[[2 3 0 1]]\n",
      "[[2 3 0 1]]\n",
      "[[3 2 0 1]]\n",
      "[[3 2 0 1]]\n",
      "[[2 3 0 1]]\n",
      "[[3 2 0 1]]\n",
      "[[2 3 0 1]]\n",
      "[[2 3 0 1]]\n",
      "[[3 1 0 2]]\n",
      "[[3 1 0 2]]\n",
      "[[2 1 0 3]]\n",
      "[[3 2 0 1]]\n",
      "[[2 1 0 3]]\n",
      "[[2 1 0 3]]\n",
      "[[3 2 0 1]]\n",
      "[[2 1 0 3]]\n",
      "[[2 1 0 3]]\n",
      "[[1 2 0 3]]\n",
      "[[0 3 2 1]]\n",
      "[[0 2 3 1]]\n",
      "[[0 2 3 1]]\n",
      "[[0 3 2 1]]\n",
      "[[0 2 3 1]]\n",
      "[[0 2 3 1]]\n",
      "[[0 3 2 1]]\n",
      "[[2 0 3 1]]\n",
      "[[0 3 2 1]]\n",
      "[[0 3 2 1]]\n",
      "[[1 2 3 0]]\n",
      "[[1 2 3 0]]\n",
      "[[2 0 1 3]]\n",
      "[[1 2 3 0]]\n",
      "[[0 1 2 3]]\n",
      "[[0 1 2 3]]\n",
      "[[2 1 3 0]]\n",
      "[[1 0 2 3]]\n",
      "[[1 0 2 3]]\n",
      "[[1 0 2 3]]\n",
      "[[1 2 3 0]]\n",
      "[[1 2 3 0]]\n",
      "[[2 3 1 0]]\n",
      "[[2 1 3 0]]\n",
      "[[1 3 2 0]]\n",
      "[[1 3 2 0]]\n",
      "[[2 1 3 0]]\n",
      "[[1 3 2 0]]\n",
      "[[1 3 2 0]]\n",
      "[[1 3 2 0]]\n",
      "[[2 0 3 1]]\n",
      "[[1 0 2 3]]\n",
      "[[1 0 2 3]]\n",
      "[[1 0 2 3]]\n",
      "[[1 0 2 3]]\n"
     ]
    }
   ],
   "source": [
    "for ii in np.arange(len(list_index_tetra)):\n",
    "    tetra_points = set_3D_points_A[list_index_tetra[ii,:],:]\n",
    "    #print tetra_points\n",
    "    bary_coords = fun_compute_barycentric_coordinates(tetra_points, set_3D_points_B)\n",
    "    #print bary_coords"
   ]
  },
  {
   "cell_type": "code",
   "execution_count": 8,
   "metadata": {
    "collapsed": false
   },
   "outputs": [
    {
     "name": "stdout",
     "output_type": "stream",
     "text": [
      "I have 18 tetrahedra after the triangulation. \n"
     ]
    }
   ],
   "source": [
    "# Delaunay triangulation\n",
    "tri = scipy.spatial.Delaunay(set_3D_points_A)\n",
    "print \"I have %1.0f tetrahedra after the triangulation. \" % np.shape(tri.simplices)[0]"
   ]
  },
  {
   "cell_type": "code",
   "execution_count": 9,
   "metadata": {
    "collapsed": false
   },
   "outputs": [
    {
     "name": "stdout",
     "output_type": "stream",
     "text": [
      "[-1 -1 -1  8 -1 -1 -1 -1 -1 -1 -1 -1 -1 -1 -1 -1 -1 -1  6 -1 -1]\n",
      "[[-6.24154489  6.38297508  0.96964555 -0.11107574]\n",
      " [ 2.1328507   1.31615557 -1.84562237 -0.60338389]\n",
      " [-4.17840569  5.43218686  0.79560383 -1.04938499]\n",
      " [ 0.1430933   0.49812239  0.05622559  0.30255872]\n",
      " [ 2.69347403 -0.90526679 -0.00659835 -0.78160889]\n",
      " [ 0.38656141  3.50288318 -0.35081545 -2.53862913]\n",
      " [ 1.93139622  0.06841523  1.28573441 -2.28554586]\n",
      " [-0.86952881  2.30872699 -0.66034565  0.22114747]\n",
      " [ 1.6497277   0.16626364  0.69351441 -1.50950575]\n",
      " [-2.04391896  3.18516594  0.92839065 -1.06963763]\n",
      " [ 3.99325543 -0.61534011  0.23296127 -2.61087659]\n",
      " [ 0.86293822 -1.12177266  2.58162648 -1.32279204]\n",
      " [ 5.27405122 -3.15302678  0.43320398 -1.55422841]\n",
      " [ 0.02149493  1.29802458  0.03906901 -0.35858852]\n",
      " [ 1.81806441 -0.34840582 -0.66098261  0.19132402]\n",
      " [ 4.11031079 -3.28369334  0.82624391 -0.65286136]\n",
      " [-1.29716523  4.02796689 -0.70275337 -1.02804829]\n",
      " [-0.86910802  3.78821223  0.24069635 -2.15980057]\n",
      " [ 0.2598286   0.3359088   0.20351749  0.20074511]\n",
      " [ 4.71710491 -1.02540229 -0.58870756 -2.10299507]\n",
      " [ 0.15907614  1.74391142  0.31662667 -1.21961423]]\n"
     ]
    }
   ],
   "source": [
    "# find which point are in which tetrahedron\n",
    "tetrahedra = tri.find_simplex(set_3D_points_B)\n",
    "print tetrahedra\n",
    "\n",
    "# find the \n",
    "X = tri.transform[tetrahedra,:3]\n",
    "Y = set_3D_points_B - tri.transform[tetrahedra,3]\n",
    "b = np.einsum('ijk,ik->ij', X, Y)\n",
    "bcoords = np.c_[b, 1 - b.sum(axis=1)]\n",
    "print bcoords\n"
   ]
  },
  {
   "cell_type": "code",
   "execution_count": 10,
   "metadata": {
    "collapsed": false
   },
   "outputs": [
    {
     "name": "stdout",
     "output_type": "stream",
     "text": [
      "indexes of tetradron\n",
      "[8 3 1 2] [ 0.71669857  0.09239212  0.75771266]\n",
      "[[ 0.76580803  0.27747846  0.72889897]\n",
      " [ 0.57936357  0.0741903   0.71696209]\n",
      " [ 0.66869361  0.04049841  0.2866533 ]\n",
      " [ 0.92849717  0.04446711  0.92596894]]\n",
      "indexes of tetradron\n",
      "[5 6 4 0] [ 0.52810739  0.16081564  0.29618339]\n",
      "[[ 0.61496151  0.06239464  0.20953875]\n",
      " [ 0.59276964  0.33779181  0.52725709]\n",
      " [ 0.50572595  0.09850981  0.04710101]\n",
      " [ 0.33018085  0.05523432  0.27419375]]\n"
     ]
    }
   ],
   "source": [
    "# display the barycentric coordinate for each point in its corresponding tetrahedra\n",
    "for tt in np.arange(len(tetrahedra)):\n",
    "    if tetrahedra[tt] >= 0: # then the point is in a tetrahedron\n",
    "        print \"indexes of tetradron\"\n",
    "        print tri.simplices[tetrahedra[tt],:], set_3D_points_B[tt,:]\n",
    "        print set_3D_points_A[tri.simplices[tetrahedra[tt],:],:]"
   ]
  },
  {
   "cell_type": "code",
   "execution_count": null,
   "metadata": {
    "collapsed": true
   },
   "outputs": [],
   "source": []
  }
 ],
 "metadata": {
  "kernelspec": {
   "display_name": "Python 2",
   "language": "python",
   "name": "python2"
  },
  "language_info": {
   "codemirror_mode": {
    "name": "ipython",
    "version": 2
   },
   "file_extension": ".py",
   "mimetype": "text/x-python",
   "name": "python",
   "nbconvert_exporter": "python",
   "pygments_lexer": "ipython2",
   "version": "2.7.12"
  }
 },
 "nbformat": 4,
 "nbformat_minor": 0
}
